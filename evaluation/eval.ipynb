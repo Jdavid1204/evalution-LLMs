{
 "cells": [
  {
   "cell_type": "code",
   "execution_count": 3,
   "metadata": {},
   "outputs": [
    {
     "name": "stdout",
     "output_type": "stream",
     "text": [
      "2.5.1\n"
     ]
    }
   ],
   "source": [
    "import torch\n",
    "print(torch.__version__)"
   ]
  },
  {
   "cell_type": "code",
   "execution_count": 4,
   "metadata": {},
   "outputs": [
    {
     "name": "stdout",
     "output_type": "stream",
     "text": [
      "True\n",
      "True\n"
     ]
    }
   ],
   "source": [
    "# Is MPS even available? macOS 12.3+\n",
    "print(torch.backends.mps.is_available())\n",
    "\n",
    "# Was the current version of PyTorch built with MPS activated?\n",
    "print(torch.backends.mps.is_built())"
   ]
  },
  {
   "cell_type": "code",
   "execution_count": 5,
   "metadata": {},
   "outputs": [
    {
     "name": "stdout",
     "output_type": "stream",
     "text": [
      "0.19.1\n"
     ]
    }
   ],
   "source": [
    "import tokenizers\n",
    "print(tokenizers.__version__)"
   ]
  },
  {
   "cell_type": "code",
   "execution_count": 2,
   "metadata": {},
   "outputs": [],
   "source": [
    "# Import necessary libraries\n",
    "from huggingface_hub import login\n",
    "from transformers import AutoTokenizer, AutoModelForCausalLM\n",
    "from datasets import load_dataset\n",
    "from evaluate import load\n",
    "import torch\n",
    "import time"
   ]
  },
  {
   "cell_type": "code",
   "execution_count": null,
   "metadata": {},
   "outputs": [
    {
     "name": "stderr",
     "output_type": "stream",
     "text": [
      "Loading checkpoint shards:   0%|          | 0/2 [00:00<?, ?it/s]"
     ]
    },
    {
     "ename": "",
     "evalue": "",
     "output_type": "error",
     "traceback": [
      "\u001b[1;31mThe Kernel crashed while executing code in the current cell or a previous cell. \n",
      "\u001b[1;31mPlease review the code in the cell(s) to identify a possible cause of the failure. \n",
      "\u001b[1;31mClick <a href='https://aka.ms/vscodeJupyterKernelCrash'>here</a> for more info. \n",
      "\u001b[1;31mView Jupyter <a href='command:jupyter.viewOutput'>log</a> for further details."
     ]
    }
   ],
   "source": [
    "# Import necessary libraries\n",
    "import torch\n",
    "import os\n",
    "import time\n",
    "\n",
    "from huggingface_hub import login\n",
    "from transformers import AutoTokenizer, AutoModelForCausalLM\n",
    "from datasets import load_dataset\n",
    "from evaluate import load\n",
    "\n",
    "\n",
    "load_dotenv()\n",
    "\n",
    "huggin_face_token = os.getenv(\"HUGGING_FACE_TOKEN\")\n",
    "# Step 1: Authenticate (if required)\n",
    "\n",
    "login(huggin_face_token)\n",
    "\n",
    "# Step 2: Load the Llama 3.2 Model and Tokenizer\n",
    "model_name = \"meta-llama/Llama-3.2-3B-Instruct\"\n",
    "tokenizer = AutoTokenizer.from_pretrained(model_name, trust_remote_code=True)\n",
    "model = AutoModelForCausalLM.from_pretrained(model_name, trust_remote_code=True)\n",
    "\n",
    "# Step 3: Load the Evaluation Dataset\n",
    "# Here, we use a sample dataset, but you can replace it with your custom dataset as needed\n",
    "dataset = load_dataset(\"squad_v2\", split=\"validation\")  # Example dataset for QA\n",
    "\n",
    "# Step 4: Load Metrics\n",
    "bleu = load(\"bleu\")\n",
    "rouge = load(\"rouge\")\n",
    "bertscore = load(\"bertscore\")\n",
    "\n",
    "# Step 5: Define the Evaluation Function\n",
    "def evaluate_model(model, tokenizer, dataset):\n",
    "    references, predictions = [], []\n",
    "    latencies = []  # To store latency times for each response\n",
    "    for item in dataset:\n",
    "        # Start the latency timer\n",
    "        start_time = time.time()\n",
    "\n",
    "        # Tokenize the input\n",
    "        inputs = tokenizer(item[\"question\"], return_tensors=\"pt\").input_ids\n",
    "        \n",
    "        # Generate a response from the model\n",
    "        with torch.no_grad():\n",
    "            outputs = model.generate(inputs, max_length=50)\n",
    "\n",
    "        # End the latency timer and calculate elapsed time  \n",
    "        latency = time.time() - start_time\n",
    "        latencies.append(latency)\n",
    "\n",
    "        # Decode the model's output\n",
    "        prediction = tokenizer.decode(outputs[0], skip_special_tokens=True)\n",
    "\n",
    "        # Store predictions and references for metric calculation\n",
    "        predictions.append(prediction)\n",
    "        references.append(item[\"answers\"][\"text\"][0] if item[\"answers\"][\"text\"] else \"\")\n",
    "\n",
    "        \n",
    "    # Calculate average latency\n",
    "    avg_latency = sum(latencies) / len(latencies)\n",
    "\n",
    "    # Calculate metrics\n",
    "    bleu_score = bleu.compute(predictions=predictions, references=references)\n",
    "    rouge_score = rouge.compute(predictions=predictions, references=references)\n",
    "    bertscore_score = bertscore.compute(predictions=predictions, references=references, lang=\"en\")\n",
    "\n",
    "    return {\"BLEU\": bleu_score, \"ROUGE\": rouge_score, \"BERTScore\": bertscore_score, \"Average Latency (seconds)\": avg_latency}\n",
    "\n",
    "# Step 6: Run the Evaluation\n",
    "results = evaluate_model(model, tokenizer, dataset)\n",
    "print(results)\n"
   ]
  },
  {
   "cell_type": "code",
   "execution_count": null,
   "metadata": {},
   "outputs": [],
   "source": []
  }
 ],
 "metadata": {
  "kernelspec": {
   "display_name": "hugging_env",
   "language": "python",
   "name": "python3"
  },
  "language_info": {
   "codemirror_mode": {
    "name": "ipython",
    "version": 3
   },
   "file_extension": ".py",
   "mimetype": "text/x-python",
   "name": "python",
   "nbconvert_exporter": "python",
   "pygments_lexer": "ipython3",
   "version": "3.11.10"
  }
 },
 "nbformat": 4,
 "nbformat_minor": 2
}
